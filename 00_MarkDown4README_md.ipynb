{
  "nbformat": 4,
  "nbformat_minor": 0,
  "metadata": {
    "colab": {
      "provenance": [],
      "include_colab_link": true
    },
    "kernelspec": {
      "name": "python3",
      "display_name": "Python 3"
    },
    "language_info": {
      "name": "python"
    }
  },
  "cells": [
    {
      "cell_type": "markdown",
      "metadata": {
        "id": "view-in-github",
        "colab_type": "text"
      },
      "source": [
        "<a href=\"https://colab.research.google.com/github/josubin1132/practice/blob/main/00_MarkDown4README_md.ipynb\" target=\"_parent\"><img src=\"https://colab.research.google.com/assets/colab-badge.svg\" alt=\"Open In Colab\"/></a>"
      ]
    },
    {
      "cell_type": "code",
      "source": [],
      "metadata": {
        "id": "tOMI0UwANKBk"
      },
      "execution_count": null,
      "outputs": []
    },
    {
      "cell_type": "markdown",
      "source": [
        "# ✂️✏️📌 **How to Use <font color = 'red'> Markdown Language**\n",
        "* ## For <font color = 'orange'> more syntax</font> of markdown langauge, [Click here.](https://www.markdownguide.org/basic-syntax/)\n",
        "\n",
        "\n"
      ],
      "metadata": {
        "id": "nFyrb7heQOTL"
      }
    },
    {
      "cell_type": "code",
      "source": [],
      "metadata": {
        "id": "JJd331dTNDZ2"
      },
      "execution_count": null,
      "outputs": []
    },
    {
      "cell_type": "markdown",
      "source": [
        "# 👊👧💌How to Use **<font color = red> Markdown Language**\n",
        "\n",
        "\n",
        "* ## For <font color = green >more synatax </font> of markdown lanaguage, [Click Here!](https://www.markdownguide.org/basic-syntax/)\n",
        "\n",
        "\n"
      ],
      "metadata": {
        "id": "h80T-ycjr52z"
      }
    },
    {
      "cell_type": "code",
      "source": [
        "# = 글씨 두꺼워짐, 제목 만들기, 6개까지 2개부터 작아짐\n",
        "** = 강조,__ 강조\n",
        "<font color = 'red'> = 글씨 색깔 바꾸기 중간에만 바꾸고 싶다면 <font color = 'red>'랑 </font> 써야함\n",
        "([])(주소) = 밑줄 링크 생성\n",
        "\n",
        "표는\n",
        "|:--|:--|:--|= 불투명칸 생성\n",
        "*,- 띄어쓰기 = 점 생성"
      ],
      "metadata": {
        "id": "nQWx9-T1NbGY"
      },
      "execution_count": null,
      "outputs": []
    },
    {
      "cell_type": "markdown",
      "source": [
        "NLP_2024\n",
        "\n",
        "# 🐹🍦 **Python Language**\n",
        "\n",
        "\n",
        "#NLP_2024\n",
        "\n",
        "# 🐤🐯 **Python Language**\n",
        "\n",
        "##**Learning Python** using**Colab ([visit Colab homepage](https://colab.research.google.com/?hl=ko)) and Github**([visit Github homepage](https://github.com/))\n",
        "\n",
        "\n",
        "##**1. Sign up github**([visit a tutorial on Youtube](https://www.youtube.com/watch?v=2X_EU18OeYM))\n",
        "\n",
        "##**2. Sign up Google Colaboratory**(aka. Colab) ([visit a tutoriai on Youtube](https://www.youtube.com/watch?v=2X_EU18OeYM))\n",
        "\n",
        "### **3. Useful References**\n",
        "- Exercises 200 파이썬200제 by 장삼용. 정보문화사 2017\n",
        "- [Jump to Python](https://wikidocs.net/book/1)\n",
        "- [wikidocs for nltk](https://wikidocs.net/21667)\n",
        "\n",
        "\n",
        "###**3. Useful Referances**\n",
        "- Exercises 200파이썬200제 by 잠삼용, 정보문화사 2017\n",
        "- [Jump to Python](https://wikidocs.net/book/1)"
      ],
      "metadata": {
        "id": "Ceti2HbxxqpR"
      }
    },
    {
      "cell_type": "markdown",
      "source": [],
      "metadata": {
        "id": "9bCY71TJxhed"
      }
    },
    {
      "cell_type": "code",
      "source": [],
      "metadata": {
        "id": "HtSYXEwXxQhD"
      },
      "execution_count": null,
      "outputs": []
    },
    {
      "cell_type": "markdown",
      "source": [],
      "metadata": {
        "id": "8eGIojoTrl26"
      }
    },
    {
      "cell_type": "markdown",
      "source": [
        "# NLP_2024\n",
        "\n",
        "# 🐹🍦 **Python Language**\n",
        "\n",
        "## **Learning Python** using **Colab** ([Visit Colab homepage](https://colab.research.google.com/?utm_source=scs-index)) and **Github** ([Visit Github homepage](https://github.com/))\n",
        "\n",
        "### **1. Sign up github** ([Visit a tutorial on Youtube](https://www.youtube.com/watch?v=c-NikCpec7U))\n",
        "### **2. Sign up Google Colaboratory** (aka. Colab) ([Visit a tutorial on Youtube](https://www.youtube.com/watch?v=2X_EU18OeYM))\n",
        "\n",
        "### **3. Useful References**\n",
        "- Exercises 200 파이썬200제 by 장삼용. 정보문화사 2017\n",
        "- [Jump to Python](https://wikidocs.net/book/1)\n",
        "- [wikidocs for nltk](https://wikidocs.net/21667)\n",
        "\n",
        "### **4. Markdown Language**\n",
        "* [Emoji](https://gist.github.com/rxaviers/7360908)\n",
        "* [Markdown syntax](https://www.markdownguide.org/basic-syntax/)\n",
        "\n",
        "### **5. Class Materials**\n",
        "| # | Sessions | Keywords |\n",
        "|:--:|:--:|:--:|\n",
        "| 1 | Markdown Language 👪  | [syntax](https://github.com/ms624atyale/NLP_2024/blob/main/0_MarkDown4README_md.ipynb)|  \n"
      ],
      "metadata": {
        "id": "OtctgkT2NOCS"
      }
    }
  ]
}